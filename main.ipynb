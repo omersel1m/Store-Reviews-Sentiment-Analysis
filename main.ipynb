{
 "cells": [
  {
   "cell_type": "code",
   "execution_count": 1,
   "id": "825367e5-9aed-4dda-97be-1c496b3f1545",
   "metadata": {},
   "outputs": [],
   "source": [
    "import numpy as np \n",
    "import pandas as pd \n",
    "import matplotlib.pyplot as plt\n",
    "import seaborn as sns\n",
    "\n",
    "# Uyarıları görmezden gelme!\n",
    "import warnings\n",
    "warnings.filterwarnings(\"ignore\")"
   ]
  },
  {
   "cell_type": "code",
   "execution_count": 2,
   "id": "8a08a5e2-e257-4f66-bf9e-f3cf40bd0adc",
   "metadata": {},
   "outputs": [],
   "source": [
    "data = pd.read_csv(\"magaza_yorumlari_duygu_analizi.csv\", encoding = \"utf-16\")"
   ]
  },
  {
   "cell_type": "code",
   "execution_count": 3,
   "id": "50fbaafb-8e5e-49b8-af98-b9b77f678d5b",
   "metadata": {},
   "outputs": [
    {
     "data": {
      "text/html": [
       "<div>\n",
       "<style scoped>\n",
       "    .dataframe tbody tr th:only-of-type {\n",
       "        vertical-align: middle;\n",
       "    }\n",
       "\n",
       "    .dataframe tbody tr th {\n",
       "        vertical-align: top;\n",
       "    }\n",
       "\n",
       "    .dataframe thead th {\n",
       "        text-align: right;\n",
       "    }\n",
       "</style>\n",
       "<table border=\"1\" class=\"dataframe\">\n",
       "  <thead>\n",
       "    <tr style=\"text-align: right;\">\n",
       "      <th></th>\n",
       "      <th>Görüş</th>\n",
       "      <th>Durum</th>\n",
       "    </tr>\n",
       "  </thead>\n",
       "  <tbody>\n",
       "    <tr>\n",
       "      <th>0</th>\n",
       "      <td>ses kalitesi ve ergonomisi rezalet, sony olduğ...</td>\n",
       "      <td>Olumsuz</td>\n",
       "    </tr>\n",
       "    <tr>\n",
       "      <th>1</th>\n",
       "      <td>hizli teslimat tesekkürler</td>\n",
       "      <td>Tarafsız</td>\n",
       "    </tr>\n",
       "    <tr>\n",
       "      <th>2</th>\n",
       "      <td>ses olayı süper....gece çalıştır sıkıntı yok.....</td>\n",
       "      <td>Olumlu</td>\n",
       "    </tr>\n",
       "    <tr>\n",
       "      <th>3</th>\n",
       "      <td>geldi bigün kullandık hemen bozoldu hiçtavsiye...</td>\n",
       "      <td>Olumsuz</td>\n",
       "    </tr>\n",
       "    <tr>\n",
       "      <th>4</th>\n",
       "      <td>Kulaklığın sesi kaliteli falan değil. Aleti öv...</td>\n",
       "      <td>Olumsuz</td>\n",
       "    </tr>\n",
       "  </tbody>\n",
       "</table>\n",
       "</div>"
      ],
      "text/plain": [
       "                                               Görüş     Durum\n",
       "0  ses kalitesi ve ergonomisi rezalet, sony olduğ...   Olumsuz\n",
       "1                         hizli teslimat tesekkürler  Tarafsız\n",
       "2  ses olayı süper....gece çalıştır sıkıntı yok.....    Olumlu\n",
       "3  geldi bigün kullandık hemen bozoldu hiçtavsiye...   Olumsuz\n",
       "4  Kulaklığın sesi kaliteli falan değil. Aleti öv...   Olumsuz"
      ]
     },
     "execution_count": 3,
     "metadata": {},
     "output_type": "execute_result"
    }
   ],
   "source": [
    "data.head()"
   ]
  },
  {
   "cell_type": "code",
   "execution_count": 4,
   "id": "6d76474c-271c-487d-bedd-bc2d73bda48c",
   "metadata": {},
   "outputs": [],
   "source": [
    "eksik_veri_sayisi=data.isnull().sum()"
   ]
  },
  {
   "cell_type": "code",
   "execution_count": 5,
   "id": "8c43d9c2-16eb-49a6-8cb8-3d5d8b14904c",
   "metadata": {},
   "outputs": [
    {
     "data": {
      "text/plain": [
       "Görüş    3\n",
       "Durum    0\n",
       "dtype: int64"
      ]
     },
     "execution_count": 5,
     "metadata": {},
     "output_type": "execute_result"
    }
   ],
   "source": [
    "eksik_veri_sayisi"
   ]
  },
  {
   "cell_type": "code",
   "execution_count": 6,
   "id": "64697585-6736-414d-8e51-cc8e5158dfc1",
   "metadata": {},
   "outputs": [],
   "source": [
    "data=data.dropna()"
   ]
  },
  {
   "cell_type": "code",
   "execution_count": 7,
   "id": "119a2f85-40da-49f4-8774-a3aad14a3e9d",
   "metadata": {},
   "outputs": [
    {
     "data": {
      "text/html": [
       "<div>\n",
       "<style scoped>\n",
       "    .dataframe tbody tr th:only-of-type {\n",
       "        vertical-align: middle;\n",
       "    }\n",
       "\n",
       "    .dataframe tbody tr th {\n",
       "        vertical-align: top;\n",
       "    }\n",
       "\n",
       "    .dataframe thead th {\n",
       "        text-align: right;\n",
       "    }\n",
       "</style>\n",
       "<table border=\"1\" class=\"dataframe\">\n",
       "  <thead>\n",
       "    <tr style=\"text-align: right;\">\n",
       "      <th></th>\n",
       "      <th>Görüş</th>\n",
       "      <th>Durum</th>\n",
       "    </tr>\n",
       "  </thead>\n",
       "  <tbody>\n",
       "    <tr>\n",
       "      <th>0</th>\n",
       "      <td>ses kalitesi ve ergonomisi rezalet, sony olduğ...</td>\n",
       "      <td>Olumsuz</td>\n",
       "    </tr>\n",
       "    <tr>\n",
       "      <th>1</th>\n",
       "      <td>hizli teslimat tesekkürler</td>\n",
       "      <td>Tarafsız</td>\n",
       "    </tr>\n",
       "    <tr>\n",
       "      <th>2</th>\n",
       "      <td>ses olayı süper....gece çalıştır sıkıntı yok.....</td>\n",
       "      <td>Olumlu</td>\n",
       "    </tr>\n",
       "    <tr>\n",
       "      <th>3</th>\n",
       "      <td>geldi bigün kullandık hemen bozoldu hiçtavsiye...</td>\n",
       "      <td>Olumsuz</td>\n",
       "    </tr>\n",
       "    <tr>\n",
       "      <th>4</th>\n",
       "      <td>Kulaklığın sesi kaliteli falan değil. Aleti öv...</td>\n",
       "      <td>Olumsuz</td>\n",
       "    </tr>\n",
       "    <tr>\n",
       "      <th>...</th>\n",
       "      <td>...</td>\n",
       "      <td>...</td>\n",
       "    </tr>\n",
       "    <tr>\n",
       "      <th>11424</th>\n",
       "      <td>biraz fazla ısınıyor ama sorumsuz çalışıyor</td>\n",
       "      <td>Tarafsız</td>\n",
       "    </tr>\n",
       "    <tr>\n",
       "      <th>11425</th>\n",
       "      <td>orijinal ürün fakat ambalaj bize ulaşana kadar...</td>\n",
       "      <td>Tarafsız</td>\n",
       "    </tr>\n",
       "    <tr>\n",
       "      <th>11426</th>\n",
       "      <td>bu cihazı 1 yıldır kullanıyorum cihazı çok beğ...</td>\n",
       "      <td>Olumsuz</td>\n",
       "    </tr>\n",
       "    <tr>\n",
       "      <th>11427</th>\n",
       "      <td>Bir sene olmadı ayar düğmesine basıyorum ekran...</td>\n",
       "      <td>Tarafsız</td>\n",
       "    </tr>\n",
       "    <tr>\n",
       "      <th>11428</th>\n",
       "      <td>Urun kaliteli zamaninda tedlimat ve kullanisli...</td>\n",
       "      <td>Olumlu</td>\n",
       "    </tr>\n",
       "  </tbody>\n",
       "</table>\n",
       "<p>11426 rows × 2 columns</p>\n",
       "</div>"
      ],
      "text/plain": [
       "                                                   Görüş     Durum\n",
       "0      ses kalitesi ve ergonomisi rezalet, sony olduğ...   Olumsuz\n",
       "1                             hizli teslimat tesekkürler  Tarafsız\n",
       "2      ses olayı süper....gece çalıştır sıkıntı yok.....    Olumlu\n",
       "3      geldi bigün kullandık hemen bozoldu hiçtavsiye...   Olumsuz\n",
       "4      Kulaklığın sesi kaliteli falan değil. Aleti öv...   Olumsuz\n",
       "...                                                  ...       ...\n",
       "11424        biraz fazla ısınıyor ama sorumsuz çalışıyor  Tarafsız\n",
       "11425  orijinal ürün fakat ambalaj bize ulaşana kadar...  Tarafsız\n",
       "11426  bu cihazı 1 yıldır kullanıyorum cihazı çok beğ...   Olumsuz\n",
       "11427  Bir sene olmadı ayar düğmesine basıyorum ekran...  Tarafsız\n",
       "11428  Urun kaliteli zamaninda tedlimat ve kullanisli...    Olumlu\n",
       "\n",
       "[11426 rows x 2 columns]"
      ]
     },
     "execution_count": 7,
     "metadata": {},
     "output_type": "execute_result"
    }
   ],
   "source": [
    "data"
   ]
  },
  {
   "cell_type": "code",
   "execution_count": 8,
   "id": "6a4dc20e-8266-4af8-b924-182b5f1aaffd",
   "metadata": {},
   "outputs": [
    {
     "data": {
      "text/plain": [
       "Index(['Görüş', 'Durum'], dtype='object')"
      ]
     },
     "execution_count": 8,
     "metadata": {},
     "output_type": "execute_result"
    }
   ],
   "source": [
    "data.columns"
   ]
  },
  {
   "cell_type": "code",
   "execution_count": 9,
   "id": "1bd32275-91ad-478b-8644-3097f5af863f",
   "metadata": {},
   "outputs": [
    {
     "data": {
      "text/plain": [
       "Durum\n",
       "Olumlu      4252\n",
       "Olumsuz     4237\n",
       "Tarafsız    2937\n",
       "Name: count, dtype: int64"
      ]
     },
     "execution_count": 9,
     "metadata": {},
     "output_type": "execute_result"
    }
   ],
   "source": [
    "data[\"Durum\"].value_counts()"
   ]
  },
  {
   "cell_type": "code",
   "execution_count": 10,
   "id": "d4fffc84-7cd6-477e-8d1e-1bafb58d6745",
   "metadata": {},
   "outputs": [
    {
     "data": {
      "image/png": "[encoded data removed]",
      "text/plain": [
       "<Figure size 640x480 with 1 Axes>"
      ]
     },
     "metadata": {},
     "output_type": "display_data"
    }
   ],
   "source": [
    "import matplotlib.pyplot as plt\n",
    "durum_sayilari=data[\"Durum\"].value_counts()\n",
    "plt.bar(durum_sayilari.index,durum_sayilari.values,color=[\"red\",\"green\",\"blue\"])\n",
    "plt.xlabel(\"Durum\")\n",
    "plt.ylabel(\"sayi\")\n",
    "plt.title(\"Durum dağılımı\")\n",
    "plt.show()"
   ]
  },
  {
   "cell_type": "code",
   "execution_count": 11,
   "id": "aa119be7-69c8-4334-88f5-05b9bba57de5",
   "metadata": {},
   "outputs": [],
   "source": [
    "data[\"Durum\"]=data.loc[:,\"Durum\"].map({\"Olumlu\":0,\"Olumsuz\":1,\"Tarafsız\":2})"
   ]
  },
  {
   "cell_type": "code",
   "execution_count": 12,
   "id": "15a0a59c-013b-44c1-88d3-1940d3ae492c",
   "metadata": {},
   "outputs": [
    {
     "data": {
      "text/html": [
       "<div>\n",
       "<style scoped>\n",
       "    .dataframe tbody tr th:only-of-type {\n",
       "        vertical-align: middle;\n",
       "    }\n",
       "\n",
       "    .dataframe tbody tr th {\n",
       "        vertical-align: top;\n",
       "    }\n",
       "\n",
       "    .dataframe thead th {\n",
       "        text-align: right;\n",
       "    }\n",
       "</style>\n",
       "<table border=\"1\" class=\"dataframe\">\n",
       "  <thead>\n",
       "    <tr style=\"text-align: right;\">\n",
       "      <th></th>\n",
       "      <th>Görüş</th>\n",
       "      <th>Durum</th>\n",
       "    </tr>\n",
       "  </thead>\n",
       "  <tbody>\n",
       "    <tr>\n",
       "      <th>0</th>\n",
       "      <td>ses kalitesi ve ergonomisi rezalet, sony olduğ...</td>\n",
       "      <td>1</td>\n",
       "    </tr>\n",
       "    <tr>\n",
       "      <th>1</th>\n",
       "      <td>hizli teslimat tesekkürler</td>\n",
       "      <td>2</td>\n",
       "    </tr>\n",
       "    <tr>\n",
       "      <th>2</th>\n",
       "      <td>ses olayı süper....gece çalıştır sıkıntı yok.....</td>\n",
       "      <td>0</td>\n",
       "    </tr>\n",
       "    <tr>\n",
       "      <th>3</th>\n",
       "      <td>geldi bigün kullandık hemen bozoldu hiçtavsiye...</td>\n",
       "      <td>1</td>\n",
       "    </tr>\n",
       "    <tr>\n",
       "      <th>4</th>\n",
       "      <td>Kulaklığın sesi kaliteli falan değil. Aleti öv...</td>\n",
       "      <td>1</td>\n",
       "    </tr>\n",
       "  </tbody>\n",
       "</table>\n",
       "</div>"
      ],
      "text/plain": [
       "                                               Görüş  Durum\n",
       "0  ses kalitesi ve ergonomisi rezalet, sony olduğ...      1\n",
       "1                         hizli teslimat tesekkürler      2\n",
       "2  ses olayı süper....gece çalıştır sıkıntı yok.....      0\n",
       "3  geldi bigün kullandık hemen bozoldu hiçtavsiye...      1\n",
       "4  Kulaklığın sesi kaliteli falan değil. Aleti öv...      1"
      ]
     },
     "execution_count": 12,
     "metadata": {},
     "output_type": "execute_result"
    }
   ],
   "source": [
    "data.head()"
   ]
  },
  {
   "cell_type": "code",
   "execution_count": 13,
   "id": "f26a1920-869a-4c04-b1a1-e4edf2599655",
   "metadata": {},
   "outputs": [
    {
     "data": {
      "text/plain": [
       "0        ses kalitesi ve ergonomisi rezalet, sony olduğ...\n",
       "1                               hizli teslimat tesekkürler\n",
       "2        ses olayı süper....gece çalıştır sıkıntı yok.....\n",
       "3        geldi bigün kullandık hemen bozoldu hiçtavsiye...\n",
       "4        Kulaklığın sesi kaliteli falan değil. Aleti öv...\n",
       "                               ...                        \n",
       "11424          biraz fazla ısınıyor ama sorumsuz çalışıyor\n",
       "11425    orijinal ürün fakat ambalaj bize ulaşana kadar...\n",
       "11426    bu cihazı 1 yıldır kullanıyorum cihazı çok beğ...\n",
       "11427    Bir sene olmadı ayar düğmesine basıyorum ekran...\n",
       "11428    Urun kaliteli zamaninda tedlimat ve kullanisli...\n",
       "Name: Görüş, Length: 11426, dtype: object"
      ]
     },
     "execution_count": 13,
     "metadata": {},
     "output_type": "execute_result"
    }
   ],
   "source": [
    "data[\"Görüş\"]"
   ]
  },
  {
   "cell_type": "code",
   "execution_count": 14,
   "id": "a3272a53-f887-45f5-9cbf-bedf5af9b7ab",
   "metadata": {},
   "outputs": [
    {
     "name": "stdout",
     "output_type": "stream",
     "text": [
      "ses kalitesi ve ergonomisi rezalet, sony olduğu için aldım ama 4'de 1 fiyatına çin replika ürün alsaydım çok çok daha iyiydi, kesinlikle tavsiye etmiyorum.\n",
      "\n",
      "Süpürge arayışınızı bitirmek ve bu konuyu kapatmak için tercihiniz olmalı. Anlatılmaz yaşanır bir temizlik gücü var. Parça ve aksamlar için şimdiden bir şey söylemek zor...Ancak anneme aldık, temizliğini görünce kendi süpürgemden soğudum :) Bundan sonraki süpürge tercihim olacak..\n",
      "\n",
      "Yerli markaların satış sonrası hizmetinden yaka silktim. Ürün güzel ama\n",
      "kurulum için altı gündür bekliyorum. Vestel hariç yerli hiçbir ürün\n",
      "satın almamaya karar verdim. Üstüne biraz koyun, Bosch veya Vestel alın,\n",
      "anında kurulumu oluyor.\n",
      "\n"
     ]
    }
   ],
   "source": [
    "print(data[\"Görüş\"][0]+\"\\n\")\n",
    "print(data[\"Görüş\"][4000]+\"\\n\")\n",
    "print(data[\"Görüş\"][4586]+\"\\n\")"
   ]
  },
  {
   "cell_type": "code",
   "execution_count": 15,
   "id": "c1e1c74b-3a96-4b3c-8f18-2a5f52bd450d",
   "metadata": {},
   "outputs": [
    {
     "data": {
      "text/plain": [
       "'ürün az önce elime geçti buradan aldım kargoyu zamanında yolladıkları için teşekkür ediyorum ama ürün hayal kırıklığı çok pişman oldum malzeme kalitesi bana göre iyi değil çekiş gücü süpürdüğünü bile farketmiyorum diyeceğim kadar komşumun 1200w süpürgesi bundan güzel çektiğini söyleyebilirim yorumlara bakarak ürünümün arızalı oldugunu bile düşünüyorum ama yinede tavsiye etmiyorum'"
      ]
     },
     "execution_count": 15,
     "metadata": {},
     "output_type": "execute_result"
    }
   ],
   "source": [
    "data[\"Görüş\"][125]"
   ]
  },
  {
   "cell_type": "code",
   "execution_count": 16,
   "id": "8696e414-12a6-4f0d-b559-b9da162d615c",
   "metadata": {},
   "outputs": [],
   "source": [
    "import re \n",
    "cumle0=data[\"Görüş\"][125]\n",
    "cumle1=re.sub(\"[^a-zA-Z]\",\" \",cumle0)\n",
    "cumle2=cumle1.lower()"
   ]
  },
  {
   "cell_type": "code",
   "execution_count": 17,
   "id": "88e97ded-9bcf-4be0-8fac-212b899d2c78",
   "metadata": {},
   "outputs": [
    {
     "data": {
      "text/plain": [
       "' r n az  nce elime ge ti buradan ald m kargoyu zaman nda yollad klar  i in te ekk r ediyorum ama  r n hayal k r kl     ok pi man oldum malzeme kalitesi bana g re iyi de il  eki  g c  s p rd   n  bile farketmiyorum diyece im kadar kom umun     w s p rgesi bundan g zel  ekti ini s yleyebilirim yorumlara bakarak  r n m n ar zal  oldugunu bile d   n yorum ama yinede tavsiye etmiyorum'"
      ]
     },
     "execution_count": 17,
     "metadata": {},
     "output_type": "execute_result"
    }
   ],
   "source": [
    "cumle2"
   ]
  },
  {
   "cell_type": "code",
   "execution_count": 18,
   "id": "01283d88-1c1c-49b5-9c96-c2f322f0b2dd",
   "metadata": {},
   "outputs": [
    {
     "name": "stdout",
     "output_type": "stream",
     "text": [
      "urun az once elime gecti buradan aldim kargoyu zamaninda yolladiklari icin tesekkur ediyorum ama urun hayal kirikligi cok pisman oldum malzeme kalitesi bana gore iyi degil cekis gucu supurdugunu bile farketmiyorum diyecegim kadar komsumun 1200w supurgesi bundan guzel cektigini soyleyebilirim yorumlara bakarak urunumun arizali oldugunu bile dusunuyorum ama yinede tavsiye etmiyorum\n"
     ]
    }
   ],
   "source": [
    "donusum_haritasi=str.maketrans(\"üÜöÖİçÇğĞşŞı\",\"uUoOIcCgGsSi\")\n",
    "cumle=\"örnek cümle içerik\"\n",
    "str1=cumle0.translate(donusum_haritasi)\n",
    "print(str1)"
   ]
  },
  {
   "cell_type": "code",
   "execution_count": 19,
   "id": "2d73ccc1-d0ab-4ff1-84be-c4dbd7cd0357",
   "metadata": {},
   "outputs": [
    {
     "data": {
      "text/plain": [
       "'urun az once elime gecti buradan aldim kargoyu zamaninda yolladiklari icin tesekkur ediyorum ama urun hayal kirikligi cok pisman oldum malzeme kalitesi bana gore iyi degil cekis gucu supurdugunu bile farketmiyorum diyecegim kadar komsumun     w supurgesi bundan guzel cektigini soyleyebilirim yorumlara bakarak urunumun arizali oldugunu bile dusunuyorum ama yinede tavsiye etmiyorum'"
      ]
     },
     "execution_count": 19,
     "metadata": {},
     "output_type": "execute_result"
    }
   ],
   "source": [
    "cumle1 = re.sub(\"[^a-zA-Z]\", \" \", str1)\n",
    "cumle2 = cumle1.lower()\n",
    "cumle2"
   ]
  },
  {
   "cell_type": "code",
   "execution_count": 20,
   "id": "58df6dbd-587e-4db7-97c0-aa0c8e60ca17",
   "metadata": {},
   "outputs": [
    {
     "name": "stderr",
     "output_type": "stream",
     "text": [
      "[nltk_data] Downloading package punkt to\n",
      "[nltk_data]     C:\\Users\\kaaaaaa\\AppData\\Roaming\\nltk_data...\n",
      "[nltk_data]   Package punkt is already up-to-date!\n",
      "[nltk_data] Downloading package stopwords to\n",
      "[nltk_data]     C:\\Users\\kaaaaaa\\AppData\\Roaming\\nltk_data...\n",
      "[nltk_data]   Package stopwords is already up-to-date!\n"
     ]
    },
    {
     "data": {
      "text/plain": [
       "True"
      ]
     },
     "execution_count": 20,
     "metadata": {},
     "output_type": "execute_result"
    }
   ],
   "source": [
    "import nltk\n",
    "nltk.download(\"punkt\")\n",
    "nltk.download(\"stopwords\")"
   ]
  },
  {
   "cell_type": "code",
   "execution_count": 21,
   "id": "2b07df02-1ed5-4852-a681-e7ff6963cb80",
   "metadata": {},
   "outputs": [],
   "source": [
    "import nltk\n",
    "from nltk.corpus import stopwords\n",
    "\n",
    "cumle2=nltk.word_tokenize(cumle2)\n",
    "cumle2=[word for word in cumle2 if not word in set(stopwords.words(\"turkish\"))]"
   ]
  },
  {
   "cell_type": "code",
   "execution_count": 23,
   "id": "79f14b83-0f33-4851-b544-f9e9bc994d43",
   "metadata": {},
   "outputs": [
    {
     "data": {
      "text/plain": [
       "['urun',\n",
       " 'once',\n",
       " 'elime',\n",
       " 'gecti',\n",
       " 'buradan',\n",
       " 'aldim',\n",
       " 'kargoyu',\n",
       " 'zamaninda',\n",
       " 'yolladiklari',\n",
       " 'icin',\n",
       " 'tesekkur',\n",
       " 'ediyorum',\n",
       " 'urun',\n",
       " 'hayal',\n",
       " 'kirikligi',\n",
       " 'cok',\n",
       " 'pisman',\n",
       " 'oldum',\n",
       " 'malzeme',\n",
       " 'kalitesi',\n",
       " 'bana',\n",
       " 'gore',\n",
       " 'iyi',\n",
       " 'degil',\n",
       " 'cekis',\n",
       " 'gucu',\n",
       " 'supurdugunu',\n",
       " 'bile',\n",
       " 'farketmiyorum',\n",
       " 'diyecegim',\n",
       " 'kadar',\n",
       " 'komsumun',\n",
       " 'w',\n",
       " 'supurgesi',\n",
       " 'bundan',\n",
       " 'guzel',\n",
       " 'cektigini',\n",
       " 'soyleyebilirim',\n",
       " 'yorumlara',\n",
       " 'bakarak',\n",
       " 'urunumun',\n",
       " 'arizali',\n",
       " 'oldugunu',\n",
       " 'bile',\n",
       " 'dusunuyorum',\n",
       " 'yinede',\n",
       " 'tavsiye',\n",
       " 'etmiyorum']"
      ]
     },
     "execution_count": 23,
     "metadata": {},
     "output_type": "execute_result"
    }
   ],
   "source": [
    "cumle2"
   ]
  },
  {
   "cell_type": "code",
   "execution_count": 24,
   "id": "d3d508cd-e200-4185-9cfa-0266b23efd91",
   "metadata": {},
   "outputs": [
    {
     "data": {
      "text/plain": [
       "'urun once elime gecti buradan aldim kargoyu zamaninda yolladiklari icin tesekkur ediyorum urun hayal kirikligi cok pisman oldum malzeme kalitesi bana gore iyi degil cekis gucu supurdugunu bile farketmiyorum diyecegim kadar komsumun w supurgesi bundan guzel cektigini soyleyebilirim yorumlara bakarak urunumun arizali oldugunu bile dusunuyorum yinede tavsiye etmiyorum'"
      ]
     },
     "execution_count": 24,
     "metadata": {},
     "output_type": "execute_result"
    }
   ],
   "source": [
    "cumle3=\" \".join(cumle2)\n",
    "cumle3"
   ]
  },
  {
   "cell_type": "code",
   "execution_count": 25,
   "id": "84eb24dc-fc3f-486c-947a-c06a826878a3",
   "metadata": {},
   "outputs": [],
   "source": [
    "def harfdegistir(cumle):\n",
    "    # Türkçe karakterleri İngilizce karakterlere dönüştürme\n",
    "    translation_table = str.maketrans(\"üÜöÖİçÇğĞşŞı\", \"uUoOIcCgGsSi\")\n",
    "    cumle = cumle.translate(translation_table)\n",
    "    \n",
    "    # Sadece harfleri bırak, diğer karakterleri boşlukla değiştir\n",
    "    cumle = re.sub(\"[^a-zA-Z]\", \" \", cumle)\n",
    "    \n",
    "    # Tüm harfleri küçült\n",
    "    cumle = cumle.lower()\n",
    "    \n",
    "    # Kelimelere böl\n",
    "    cumle = nltk.word_tokenize(cumle)\n",
    "    \n",
    "    # Stopwords kelimelerini çıkar\n",
    "    stop_words = set(stopwords.words(\"turkish\"))\n",
    "    cumle = [word for word in cumle if word not in stop_words]\n",
    "    \n",
    "    # Kelimeleri birleştir\n",
    "    cumle = \" \".join(cumle)\n",
    "    \n",
    "    return cumle"
   ]
  },
  {
   "cell_type": "code",
   "execution_count": 26,
   "id": "002a9abc-a23e-4493-a1a2-7ffcc3e81b14",
   "metadata": {},
   "outputs": [
    {
     "data": {
      "text/plain": [
       "0        ses kalitesi ve ergonomisi rezalet, sony olduğ...\n",
       "1                               hizli teslimat tesekkürler\n",
       "2        ses olayı süper....gece çalıştır sıkıntı yok.....\n",
       "3        geldi bigün kullandık hemen bozoldu hiçtavsiye...\n",
       "4        Kulaklığın sesi kaliteli falan değil. Aleti öv...\n",
       "                               ...                        \n",
       "11424          biraz fazla ısınıyor ama sorumsuz çalışıyor\n",
       "11425    orijinal ürün fakat ambalaj bize ulaşana kadar...\n",
       "11426    bu cihazı 1 yıldır kullanıyorum cihazı çok beğ...\n",
       "11427    Bir sene olmadı ayar düğmesine basıyorum ekran...\n",
       "11428    Urun kaliteli zamaninda tedlimat ve kullanisli...\n",
       "Name: Görüş, Length: 11426, dtype: object"
      ]
     },
     "execution_count": 26,
     "metadata": {},
     "output_type": "execute_result"
    }
   ],
   "source": [
    "data[\"Görüş\"]"
   ]
  },
  {
   "cell_type": "code",
   "execution_count": 27,
   "id": "5f0e3839-1f5a-4f7d-b858-160048df25cc",
   "metadata": {},
   "outputs": [
    {
     "name": "stdout",
     "output_type": "stream",
     "text": [
      "Veri setinin uzunluğu:  11426\n"
     ]
    }
   ],
   "source": [
    "print(\"Veri setinin uzunluğu: \",len(data[\"Görüş\"]))"
   ]
  },
  {
   "cell_type": "code",
   "execution_count": 28,
   "id": "c7391a28-fbb0-4163-9e12-68db7526fc2b",
   "metadata": {},
   "outputs": [
    {
     "name": "stdout",
     "output_type": "stream",
     "text": [
      "Veri Setinin Uzunluğu:  11426\n"
     ]
    }
   ],
   "source": [
    "X = data[\"Görüş\"].values\n",
    "print(\"Veri Setinin Uzunluğu: \",len(X))"
   ]
  },
  {
   "cell_type": "code",
   "execution_count": 30,
   "id": "d775114b-82a6-4e03-884f-26ea16c6012b",
   "metadata": {},
   "outputs": [
    {
     "data": {
      "text/plain": [
       "'ürün az önce elime geçti buradan aldım kargoyu zamanında yolladıkları için teşekkür ediyorum ama ürün hayal kırıklığı çok pişman oldum malzeme kalitesi bana göre iyi değil çekiş gücü süpürdüğünü bile farketmiyorum diyeceğim kadar komşumun 1200w süpürgesi bundan güzel çektiğini söyleyebilirim yorumlara bakarak ürünümün arızalı oldugunu bile düşünüyorum ama yinede tavsiye etmiyorum'"
      ]
     },
     "execution_count": 30,
     "metadata": {},
     "output_type": "execute_result"
    }
   ],
   "source": [
    "X[125]"
   ]
  },
  {
   "cell_type": "code",
   "execution_count": 31,
   "id": "4d76038c-3b8c-4b81-aacd-4cdf7f8ac929",
   "metadata": {},
   "outputs": [],
   "source": [
    "SonGorus = []\n",
    "\n",
    "for i in range(len(X)):\n",
    "    X_ = harfdegistir(X[i])\n",
    "    SonGorus.append(X_)"
   ]
  },
  {
   "cell_type": "code",
   "execution_count": 33,
   "id": "da204863-cad7-47f0-8beb-b6932145c263",
   "metadata": {},
   "outputs": [
    {
     "data": {
      "text/plain": [
       "'urun once elime gecti buradan aldim kargoyu zamaninda yolladiklari icin tesekkur ediyorum urun hayal kirikligi cok pisman oldum malzeme kalitesi bana gore iyi degil cekis gucu supurdugunu bile farketmiyorum diyecegim kadar komsumun w supurgesi bundan guzel cektigini soyleyebilirim yorumlara bakarak urunumun arizali oldugunu bile dusunuyorum yinede tavsiye etmiyorum'"
      ]
     },
     "execution_count": 33,
     "metadata": {},
     "output_type": "execute_result"
    }
   ],
   "source": [
    "SonGorus[125]"
   ]
  },
  {
   "cell_type": "code",
   "execution_count": 34,
   "id": "08299581-e1b2-457e-a0c5-df188cc758a3",
   "metadata": {},
   "outputs": [
    {
     "name": "stdout",
     "output_type": "stream",
     "text": [
      "En sık kullanılan 2500 kelimeler ['ac' 'acayip' 'acidan' ... 'zor' 'zorunda' 'zorundasiniz']\n"
     ]
    }
   ],
   "source": [
    "from sklearn.feature_extraction.text import CountVectorizer\n",
    "max_feature = 2500\n",
    "\n",
    "cv = CountVectorizer(max_features = max_feature, stop_words = stopwords.words(\"turkish\"))\n",
    "\n",
    "space_matrix = cv.fit_transform(SonGorus).toarray() # x\n",
    "\n",
    "print(\"En sık kullanılan {} kelimeler {}\".format(max_feature, cv.get_feature_names_out()))"
   ]
  },
  {
   "cell_type": "code",
   "execution_count": 35,
   "id": "3e3da0f9-0b7b-4800-b8a6-67eb5cf167bc",
   "metadata": {},
   "outputs": [
    {
     "data": {
      "text/plain": [
       "2500"
      ]
     },
     "execution_count": 35,
     "metadata": {},
     "output_type": "execute_result"
    }
   ],
   "source": [
    "max_feature"
   ]
  },
  {
   "cell_type": "code",
   "execution_count": 36,
   "id": "e72e6ac5-93b1-4821-a9b7-06a43fb74536",
   "metadata": {},
   "outputs": [],
   "source": [
    "X = space_matrix\n",
    "y = data.iloc[:,1].values"
   ]
  },
  {
   "cell_type": "code",
   "execution_count": 39,
   "id": "8b9512c0-5fad-4db7-a246-cf85ebaf04dc",
   "metadata": {},
   "outputs": [],
   "source": [
    "from sklearn.model_selection import train_test_split, cross_val_score\n",
    "\n",
    "x_train, x_test, y_train, y_test = train_test_split(X,y, test_size = 0.25, random_state = 0)"
   ]
  },
  {
   "cell_type": "code",
   "execution_count": 40,
   "id": "e43a7d53-a434-41f0-86c6-09de2db04e49",
   "metadata": {},
   "outputs": [
    {
     "name": "stdout",
     "output_type": "stream",
     "text": [
      "Sınıflandırma Raporu:\n",
      "               precision    recall  f1-score   support\n",
      "\n",
      "           0       0.68      0.87      0.76      1059\n",
      "           1       0.72      0.76      0.74      1054\n",
      "           2       0.55      0.29      0.38       744\n",
      "\n",
      "    accuracy                           0.68      2857\n",
      "   macro avg       0.65      0.64      0.63      2857\n",
      "weighted avg       0.66      0.68      0.65      2857\n",
      "\n",
      "Karışıklık Matrisi:\n",
      " [[919  70  70]\n",
      " [147 797 110]\n",
      " [285 240 219]]\n",
      "Doğruluk Skoru: 67.73%\n"
     ]
    }
   ],
   "source": [
    "from sklearn.ensemble import RandomForestClassifier\n",
    "from sklearn.metrics import classification_report, confusion_matrix, accuracy_score\n",
    "\n",
    "# RandomForestClassifier modelini oluştur\n",
    "rf_model = RandomForestClassifier(n_estimators=100, random_state=0)  # n_estimators, ormanınızdaki ağaç sayısıdır\n",
    "\n",
    "# Modeli eğitim verileriyle eğit\n",
    "rf_model.fit(x_train, y_train)\n",
    "\n",
    "# Test verileri üzerinde tahminler yap\n",
    "y_pred = rf_model.predict(x_test)\n",
    "\n",
    "# Performans metriklerini değerlendir\n",
    "print(\"Sınıflandırma Raporu:\\n\", classification_report(y_test, y_pred))\n",
    "print(\"Karışıklık Matrisi:\\n\", confusion_matrix(y_test, y_pred))\n",
    "print(\"Doğruluk Skoru: {:.2f}%\".format(accuracy_score(y_test, y_pred) * 100))"
   ]
  },
  {
   "cell_type": "code",
   "execution_count": 41,
   "id": "09190540-c96c-4cdc-9ed5-fa21476188ce",
   "metadata": {},
   "outputs": [
    {
     "name": "stdout",
     "output_type": "stream",
     "text": [
      "Cümlenin sınıfı: Olumsuz\n"
     ]
    }
   ],
   "source": [
    "def giris_cumlesi_sınıflandır(cumle):\n",
    "    # Girilen cümleyi ön işlemden geçir\n",
    "    temiz_cumle = harfdegistir(cumle)\n",
    "    \n",
    "    # CountVectorizer kullanarak cümleyi öznitelik vektörüne dönüştür\n",
    "    vektor = cv.transform([temiz_cumle]).toarray()  # cv, daha önce fit edilmiş CountVectorizer nesnesidir\n",
    "    \n",
    "    # Model ile tahmin yap\n",
    "    tahmin = rf_model.predict(vektor)\n",
    "    \n",
    "    # Tahmini yazdır\n",
    "    if tahmin == 0:\n",
    "        print(\"Cümlenin sınıfı: Olumlu\")\n",
    "    elif tahmin == 1:\n",
    "        print(\"Cümlenin sınıfı: Olumsuz\")\n",
    "    else:\n",
    "        print(\"Cümlenin sınıfı: Tarafsız\")\n",
    "\n",
    "# Örnek bir cümle ile test et\n",
    "ornek_cumle = \"Eğer daha önce hiç otele tatile gitmemişseniz size iyi gelir. 5 aylık bebeğimde bugün otele giriş yaptık ben hayatımda böyle rezalet görmedim. Otele girişimizde odaların temizlendiğini beklememiz gerektiğini söylediler ancak kalabalıktan beklenebilecek bir alan yoktu. Odaya çıktığımızda resmen çarşaflarda kum vardı eskilikten pislikten yüzüne bile bakılmaz. Yemeklere gelince ise yine aynı rezalet. Ailemle aç kaldık. Yiyecek bir şey bulamadığımdan sütüm bile gelmedi. Üstelik uygun bir fiyata da almadım. Paramla rezil oldum. Yemekhanede çatal kaşık dahi bulamadık. Yani nereden tutsan elinde kalır iğrenç.\"\n",
    "giris_cumlesi_sınıflandır(ornek_cumle)\n"
   ]
  },
  {
   "cell_type": "code",
   "execution_count": 42,
   "id": "269eae4e-9757-47e3-ad61-5d73f5a369ca",
   "metadata": {},
   "outputs": [
    {
     "name": "stdout",
     "output_type": "stream",
     "text": [
      "Cümlenin sınıfı: Olumlu\n"
     ]
    }
   ],
   "source": [
    "def giris_cumlesi_sınıflandır(cumle):\n",
    "    # Girilen cümleyi ön işlemden geçir\n",
    "    temiz_cumle = harfdegistir(cumle)\n",
    "    \n",
    "    # CountVectorizer kullanarak cümleyi öznitelik vektörüne dönüştür\n",
    "    vektor = cv.transform([temiz_cumle]).toarray()  # cv, daha önce fit edilmiş CountVectorizer nesnesidir\n",
    "    \n",
    "    # Model ile tahmin yap\n",
    "    tahmin = rf_model.predict(vektor)\n",
    "    \n",
    "    # Tahmini yazdır\n",
    "    if tahmin == 0:\n",
    "        print(\"Cümlenin sınıfı: Olumlu\")\n",
    "    elif tahmin == 1:\n",
    "        print(\"Cümlenin sınıfı: Olumsuz\")\n",
    "    else:\n",
    "        print(\"Cümlenin sınıfı: Tarafsız\")\n",
    "\n",
    "# Örnek bir cümle ile test et\n",
    "ornek_cumle = \"çok beğendim herkese öneririm\"\n",
    "giris_cumlesi_sınıflandır(ornek_cumle)"
   ]
  },
  {
   "cell_type": "code",
   "execution_count": null,
   "id": "c302b8c0-d76a-4abe-9efe-930a0bfb2c85",
   "metadata": {},
   "outputs": [],
   "source": []
  }
 ],
 "metadata": {
  "kernelspec": {
   "display_name": "Python 3 (ipykernel)",
   "language": "python",
   "name": "python3"
  },
  "language_info": {
   "codemirror_mode": {
    "name": "ipython",
    "version": 3
   },
   "file_extension": ".py",
   "mimetype": "text/x-python",
   "name": "python",
   "nbconvert_exporter": "python",
   "pygments_lexer": "ipython3",
   "version": "3.12.4"
  }
 },
 "nbformat": 4,
 "nbformat_minor": 5
}
